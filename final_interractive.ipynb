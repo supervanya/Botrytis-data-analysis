{
 "cells": [
  {
   "cell_type": "code",
   "execution_count": null,
   "metadata": {},
   "outputs": [],
   "source": [
    "import numpy as np\n",
    "import pandas as pd\n",
    "import altair as alt\n",
    "import seaborn as sns\n",
    "\n",
    "import weather\n",
    "import plants\n",
    "\n",
    "import importlib"
   ]
  },
  {
   "cell_type": "code",
   "execution_count": null,
   "metadata": {},
   "outputs": [],
   "source": [
    "importlib.reload(weather)"
   ]
  },
  {
   "cell_type": "code",
   "execution_count": null,
   "metadata": {},
   "outputs": [],
   "source": [
    "importlib.reload(plants)"
   ]
  },
  {
   "cell_type": "code",
   "execution_count": null,
   "metadata": {},
   "outputs": [],
   "source": [
    "# showing only 10 rows when trying to print the whole pandas dataset \n",
    "pd.options.display.max_rows = 15"
   ]
  },
  {
   "cell_type": "code",
   "execution_count": null,
   "metadata": {},
   "outputs": [],
   "source": [
    "import json  # need it for json.dumps\n",
    "import altair as alt\n",
    "from altair.vega import v3\n",
    "from IPython.display import HTML\n",
    "\n",
    "# Create the correct URLs for require.js to find the Javascript libraries\n",
    "vega_url = 'https://cdn.jsdelivr.net/npm/vega@' + v3.SCHEMA_VERSION\n",
    "vega_lib_url = 'https://cdn.jsdelivr.net/npm/vega-lib'\n",
    "vega_lite_url = 'https://cdn.jsdelivr.net/npm/vega-lite@' + alt.SCHEMA_VERSION\n",
    "vega_embed_url = 'https://cdn.jsdelivr.net/npm/vega-embed@3'\n",
    "noext = \"?noext\"\n",
    "\n",
    "paths = {\n",
    "    'vega': vega_url + noext,\n",
    "    'vega-lib': vega_lib_url + noext,\n",
    "    'vega-lite': vega_lite_url + noext,\n",
    "    'vega-embed': vega_embed_url + noext\n",
    "}\n",
    "\n",
    "workaround = \"\"\"\n",
    "requirejs.config({{\n",
    "    baseUrl: 'https://cdn.jsdelivr.net/npm/',\n",
    "    paths: {paths}\n",
    "}});\n",
    "\"\"\"\n",
    "\n",
    "HTML(\"\".join((\n",
    "    \"<script>\",\n",
    "    workaround.format(paths=json.dumps(paths)),\n",
    "    \"</script>\",\n",
    "    \"This code block sets up embedded rendering in HTML.\"\n",
    ")))"
   ]
  },
  {
   "cell_type": "code",
   "execution_count": null,
   "metadata": {},
   "outputs": [],
   "source": [
    "# Define the function for rendering\n",
    "def add_autoincrement(render_func):\n",
    "    # Keep track of unique <div/> IDs\n",
    "    cache = {}\n",
    "    def wrapped(chart, id=\"vega-chart\", autoincrement=True):\n",
    "        \"\"\"Render an altair chart directly via javascript.\n",
    "        \n",
    "        This is a workaround for functioning export to HTML.\n",
    "        (It probably messes up other ways to export.) It will\n",
    "        cache and autoincrement the ID suffixed with a\n",
    "        number (e.g. vega-chart-1) so you don't have to deal\n",
    "        with that.\n",
    "        \"\"\"\n",
    "        if autoincrement:\n",
    "            if id in cache:\n",
    "                counter = 1 + cache[id]\n",
    "                cache[id] = counter\n",
    "            else:\n",
    "                cache[id] = 0\n",
    "            actual_id = id if cache[id] == 0 else id + '-' + str(cache[id])\n",
    "        else:\n",
    "            if id not in cache:\n",
    "                cache[id] = 0\n",
    "            actual_id = id\n",
    "        return render_func(chart, id=actual_id)\n",
    "    # Cache will stay defined and keep track of the unique div Ids\n",
    "    return wrapped\n",
    "\n",
    "\n",
    "@add_autoincrement\n",
    "def render(chart, id=\"vega-chart\"):\n",
    "    # This below is the javascript to make the chart directly using vegaEmbed\n",
    "    chart_str = \"\"\"\n",
    "    <div id=\"{id}\"></div><script>\n",
    "    require([\"vega-embed\"], function(vegaEmbed) {{\n",
    "        const spec = {chart};     \n",
    "        vegaEmbed(\"#{id}\", spec, {{defaultStyle: true}}).catch(console.warn);\n",
    "    }});\n",
    "    </script>\n",
    "    \"\"\"\n",
    "    return HTML(\n",
    "        chart_str.format(\n",
    "            id=id,\n",
    "            chart=json.dumps(chart) if isinstance(chart, dict) else chart.to_json(indent=None)\n",
    "        )\n",
    "    )"
   ]
  },
  {
   "cell_type": "markdown",
   "metadata": {},
   "source": [
    "# Effects of **Climate** on **Botrytis Infection** in Peonies "
   ]
  },
  {
   "cell_type": "markdown",
   "metadata": {},
   "source": [
    "## 1. Weather Data\n",
    "First, I am geting the data from the **weather api** for the appropriate months"
   ]
  },
  {
   "cell_type": "code",
   "execution_count": null,
   "metadata": {},
   "outputs": [],
   "source": [
    "# shorthand notation for the relelvant cities\n",
    "AA = \"Ann Arbor, MI\"\n",
    "MSK = \"Minsk, Belarus\"\n",
    "\n",
    "# this are the date blocks to fetch\n",
    "april     = ['04-15','04-30']\n",
    "may       = ['05-01','05-31']\n",
    "june      = ['06-01','06-30']\n",
    "july      = ['07-01','07-31']\n",
    "august    = ['08-01','08-31']\n",
    "september = ['09-01','09-30']\n",
    "\n",
    "def get_weather_data(city,months,years,file):\n",
    "    # Request to API and Dumping data to CSV\n",
    "    data = weather.get_weather_data(city,years,months)\n",
    "    weather.dump_to_csv(file, days = data)\n",
    "\n",
    "    # reading weather into pandas dataframe\n",
    "    df = pd.read_csv(file)\n",
    "\n",
    "    # coverting the date column into a 'datetime' column\n",
    "    df.date = df.date.astype('datetime64[ns]')\n",
    "    \n",
    "    # making the column with average temperature\n",
    "    df['avgtempC'] = (df['maxtempC'] + df['mintempC'])/2\n",
    "\n",
    "    \n",
    "    # returning the result\n",
    "    return df"
   ]
  },
  {
   "cell_type": "code",
   "execution_count": null,
   "metadata": {},
   "outputs": [],
   "source": [
    "#### GETTING WEATHER FOR ANN ARBOR ####\n",
    "city   = AA\n",
    "months = [may,june,july,august]\n",
    "years  = [2012,2013,2014,2015,2016,2017,2018]\n",
    "file   = 'aa_weather.csv'\n",
    "\n",
    "# getting weather data for each day of given month\n",
    "aa_weather_df = get_weather_data(city,months,years,file)\n",
    "\n",
    "# need to calculate averages for each year\n",
    "aa_weather_mean_by_year_df = aa_weather_df.groupby(aa_weather_df.date.dt.year).mean()"
   ]
  },
  {
   "cell_type": "code",
   "execution_count": null,
   "metadata": {},
   "outputs": [],
   "source": [
    "#### GETTING WEATHER FOR MINSK ####\n",
    "city   = MSK\n",
    "months = [may,june,july,august]\n",
    "years  = [2012,2013,2014,2015,2016,2017,2018]\n",
    "file   = 'msk_weather.csv'\n",
    "\n",
    "# getting weather data for each day of given month\n",
    "msk_weather_df = get_weather_data(city,months,years,file)\n",
    "\n",
    "# need to calculate averages for each year\n",
    "msk_weather_mean_by_year_df = msk_weather_df.groupby(msk_weather_df.date.dt.year).mean()"
   ]
  },
  {
   "cell_type": "code",
   "execution_count": null,
   "metadata": {},
   "outputs": [],
   "source": [
    "brush = alt.selection(type='interval', encodings=['x'])\n",
    "\n",
    "msk = alt.Chart(msk_weather_df).mark_line().encode(\n",
    "    x=alt.X('date:T', scale={'domain': brush.ref()}),\n",
    "    y=alt.Y('humidity:Q',scale = {'domain':(40, 100)})\n",
    ").properties(\n",
    "    width=600,\n",
    "    height=150\n",
    ").encode(color='city:N')\n",
    "\n",
    "\n",
    "aa = alt.Chart(aa_weather_df).mark_line().encode(\n",
    "    x=alt.X('date:T', scale={'domain': brush.ref()}),\n",
    "    y=alt.Y('humidity:Q',scale = {'domain':(40, 100)})\n",
    ").properties(\n",
    "    width=600,\n",
    "    height=150\n",
    ").encode(color='city:N')\n",
    "\n",
    "lower =(msk.properties(\n",
    "    height=60,\n",
    "    width=600\n",
    ")+aa.add_selection(brush)).properties(title=\"Interractive mini-map. Select using cursor the areas you'd like to zoom into\")\n",
    "\n",
    "render(alt.vconcat(msk,aa,msk+aa,lower).properties(title='Humidity in Minsk, Bealrus and Ann Arbor, MI, USA').configure_mark(opacity=0.8))"
   ]
  },
  {
   "cell_type": "code",
   "execution_count": null,
   "metadata": {},
   "outputs": [],
   "source": [
    "msk = msk.encode(y=alt.Y('avgtempC:Q'))\n",
    "aa = aa.encode(y=alt.Y('avgtempC:Q')) \n",
    "\n",
    "plot = alt.vconcat(msk,aa,msk+aa,lower).properties(title='Temperature in Minsk and Ann Arbor')\n",
    "render(plot)"
   ]
  },
  {
   "cell_type": "code",
   "execution_count": null,
   "metadata": {},
   "outputs": [],
   "source": [
    "msk = msk.encode(y=alt.Y('cloudcover:Q',scale = {'domain':(-10, 110)}))\n",
    "aa = aa.encode(y=alt.Y('cloudcover:Q',scale = {'domain':(-10, 110)}))\n",
    "\n",
    "render(alt.vconcat(msk,aa,msk+aa,lower).properties(title='Cloudcover in Minsk, Bealrus and Ann Arbor, MI, USA'))"
   ]
  },
  {
   "cell_type": "code",
   "execution_count": null,
   "metadata": {},
   "outputs": [],
   "source": [
    "msk = msk.encode(y=alt.Y('precipMM:Q',scale = {'domain':(-10, 50)})).mark_line()\n",
    "aa = aa.encode(y=alt.Y('precipMM:Q',scale = {'domain':(-10, 50)})).mark_line()\n",
    "\n",
    "render(alt.vconcat(msk,aa,msk+aa,lower).properties(title='Precipitation in Minsk, Bealrus and Ann Arbor, MI, USA'))"
   ]
  },
  {
   "cell_type": "markdown",
   "metadata": {},
   "source": [
    "## 2. Plants Data\n",
    "Second, I am going to collect the plants' morphological properties into a pandas dataframe to combine with weather data"
   ]
  },
  {
   "cell_type": "code",
   "execution_count": null,
   "metadata": {},
   "outputs": [],
   "source": [
    "file_name = 'data/plants/msk_aa_15-18.xlsx'\n",
    "sheet_nums = [4,5,6,7]\n",
    "column_names = [\"No\",\n",
    "                \"genetic_Acc_No\",\n",
    "                \"num\",\n",
    "                \"Cultivar\",\n",
    "                \"Serial_No\",\n",
    "                \"ID\",\n",
    "                \"Regidity\",\n",
    "                \"Thickness\",\n",
    "                \"Bush\",\n",
    "                \"Early_Bot\",\n",
    "                \"Bot\",\n",
    "                \"Mildew\",\n",
    "                \"date\",\n",
    "                \"City\"]\n",
    "\n",
    "plants_aa_df = plants.read_excel(file_name, sheet_nums = sheet_nums, na_values=['NA','Na'], column_names=column_names)"
   ]
  },
  {
   "cell_type": "code",
   "execution_count": null,
   "metadata": {},
   "outputs": [],
   "source": [
    "plants_aa_df.tail()"
   ]
  },
  {
   "cell_type": "markdown",
   "metadata": {},
   "source": [
    "## 3. Combining both\n",
    "\n",
    "Finally, it is time to combine the weather data with the plants data"
   ]
  },
  {
   "cell_type": "markdown",
   "metadata": {},
   "source": [
    "First, lets take a look at the weather data average by years"
   ]
  },
  {
   "cell_type": "code",
   "execution_count": null,
   "metadata": {},
   "outputs": [],
   "source": [
    "msk_weather_mean_by_year_df"
   ]
  },
  {
   "cell_type": "code",
   "execution_count": null,
   "metadata": {},
   "outputs": [],
   "source": [
    "aa_weather_mean_by_year_df"
   ]
  },
  {
   "cell_type": "markdown",
   "metadata": {},
   "source": [
    "It looks like year is in a string format and is the only connection between two datasets <br>\n",
    "Going to create a new column  **year** to match `weather` and `plants` on"
   ]
  },
  {
   "cell_type": "code",
   "execution_count": null,
   "metadata": {},
   "outputs": [],
   "source": [
    "plants_aa_df['year'] = plants_aa_df.date.apply(lambda x: str(x)[0:4])"
   ]
  },
  {
   "cell_type": "code",
   "execution_count": null,
   "metadata": {},
   "outputs": [],
   "source": [
    "plants_aa_df.sample(4)"
   ]
  },
  {
   "cell_type": "markdown",
   "metadata": {},
   "source": [
    "both columns must be the same format"
   ]
  },
  {
   "cell_type": "code",
   "execution_count": null,
   "metadata": {},
   "outputs": [],
   "source": [
    "plants_aa_df.year = plants_aa_df.year.astype('str')\n",
    "aa_weather_mean_by_year_df.index = aa_weather_mean_by_year_df.index.astype('str')"
   ]
  },
  {
   "cell_type": "markdown",
   "metadata": {},
   "source": [
    "now we can combine two datasets"
   ]
  },
  {
   "cell_type": "code",
   "execution_count": null,
   "metadata": {},
   "outputs": [],
   "source": [
    "plants_weather_aa_df = plants_aa_df.merge(aa_weather_mean_by_year_df, left_on='year', right_on='date')"
   ]
  },
  {
   "cell_type": "code",
   "execution_count": null,
   "metadata": {},
   "outputs": [],
   "source": [
    "plants_weather_aa_df.head()"
   ]
  },
  {
   "cell_type": "markdown",
   "metadata": {},
   "source": [
    "## 4. Combined Data Processing"
   ]
  },
  {
   "cell_type": "markdown",
   "metadata": {},
   "source": [
    "I'd like to find the  top plants that are **most** resistant to Botrytis (Bot) <br>\n",
    "Specifically I am looking for plant that have never gone above **threshold** in Bot column"
   ]
  },
  {
   "cell_type": "code",
   "execution_count": null,
   "metadata": {},
   "outputs": [],
   "source": [
    "# setting the cutoff threshold\n",
    "threshold = 0.4\n",
    "\n",
    "# grouping the plants by the name and looking for the maximum infection level within plant\n",
    "max_bot_df = plants_weather_aa_df.groupby('Cultivar').Bot.max()\n",
    "\n",
    "# finding most resistant based on the threshold\n",
    "most_resistant = max_bot_df[max_bot_df < threshold]\n",
    "print(most_resistant)\n",
    "most_resistant_list = most_resistant.index\n",
    "\n",
    "# filtering the original dataframe with all the plants to select only the most resistant\n",
    "most_resistant_df = plants_weather_aa_df[ plants_weather_aa_df.Cultivar.isin(most_resistant_list) ]"
   ]
  },
  {
   "cell_type": "markdown",
   "metadata": {},
   "source": [
    "let's take a look at what the __most resistant__ look like"
   ]
  },
  {
   "cell_type": "code",
   "execution_count": null,
   "metadata": {},
   "outputs": [],
   "source": [
    "most_resistant_df['Cultivar'].value_counts()"
   ]
  },
  {
   "cell_type": "markdown",
   "metadata": {},
   "source": [
    "removing Richardson Perfection and Kansas as it has only 1 record and might be not good data"
   ]
  },
  {
   "cell_type": "code",
   "execution_count": null,
   "metadata": {},
   "outputs": [],
   "source": [
    "most_resistant_df = most_resistant_df[most_resistant_df.Cultivar != 'Richardson Perfection']\n",
    "most_resistant_df = most_resistant_df[most_resistant_df.Cultivar != 'Kansas']\n",
    "\n",
    "most_resistant_df['Cultivar'].value_counts()"
   ]
  },
  {
   "cell_type": "markdown",
   "metadata": {},
   "source": [
    "<br>Now, looking for plants that are **least** resistant [susceptible] to Botrytis (Bot) <br>\n",
    "Specifically I am looking for plant that have never gone lower than **threshold** in Bot column"
   ]
  },
  {
   "cell_type": "code",
   "execution_count": null,
   "metadata": {},
   "outputs": [],
   "source": [
    "# finding least resistant based on the threshold\n",
    "least_resistant = max_bot_df[max_bot_df > 1.5]\n",
    "print(least_resistant)\n",
    "least_resistant_list = least_resistant.index\n",
    "\n",
    "# filtering the original dataframe with all the plants to select only the most resistant\n",
    "least_resistant_df = plants_weather_aa_df[ plants_weather_aa_df.Cultivar.isin(least_resistant_list) ]"
   ]
  },
  {
   "cell_type": "code",
   "execution_count": null,
   "metadata": {},
   "outputs": [],
   "source": []
  },
  {
   "cell_type": "markdown",
   "metadata": {},
   "source": [
    "## 5. Visual Exploration"
   ]
  },
  {
   "cell_type": "markdown",
   "metadata": {},
   "source": [
    "#### Defining a function that can display interractive scatterplots via Altair "
   ]
  },
  {
   "cell_type": "code",
   "execution_count": null,
   "metadata": {},
   "outputs": [],
   "source": [
    "def bot_interractive_scatterplots(source, title):\n",
    "    brush = alt.selection(type='interval', resolve='global')\n",
    "\n",
    "    base = alt.Chart(source).mark_circle(size = 125).encode(\n",
    "        alt.X('Bot:Q'),\n",
    "    #     color = 'Cultivar:N',\n",
    "        color=alt.condition(brush, 'Cultivar', alt.ColorValue('gray'))\n",
    "    #     shape = 'Cultivar:O',\n",
    "    #     size = 'Bot:Q'\n",
    "    ).add_selection(\n",
    "        brush\n",
    "    ).properties(\n",
    "        width=250,\n",
    "        height=250\n",
    "    )\n",
    "\n",
    "    # definign scale for y\n",
    "    s_temp   = alt.Scale(domain=(20, 23))\n",
    "    s_humid  = alt.Scale(domain=(69, 77))\n",
    "    s_percip = alt.Scale(domain=(3, 5))\n",
    "    s_cloud  = alt.Scale(domain=(30, 46))\n",
    "\n",
    "    # plotting graphs next to each other\n",
    "    return (base.encode(alt.Y('avgtempC',scale = s_temp))|\\\n",
    "    base.encode(alt.Y('humidity',scale = s_humid))|\\\n",
    "    base.encode(alt.Y('precipMM',scale = s_percip))|\\\n",
    "    base.encode(alt.Y('cloudcover',scale = s_cloud))).properties(title=title)"
   ]
  },
  {
   "cell_type": "markdown",
   "metadata": {},
   "source": [
    "now using the function to plot **Most Resistant Species**"
   ]
  },
  {
   "cell_type": "code",
   "execution_count": null,
   "metadata": {},
   "outputs": [],
   "source": [
    "render(bot_interractive_scatterplots(most_resistant_df,'Botrytis and Climate relationship among Resistant Species'))"
   ]
  },
  {
   "cell_type": "markdown",
   "metadata": {},
   "source": [
    "now same but for  **Less Resistant Species**"
   ]
  },
  {
   "cell_type": "code",
   "execution_count": null,
   "metadata": {},
   "outputs": [],
   "source": [
    "render(bot_interractive_scatterplots(least_resistant_df,'Botrytis and Climate relationship among Least Resistant Species'))"
   ]
  },
  {
   "cell_type": "code",
   "execution_count": null,
   "metadata": {},
   "outputs": [],
   "source": [
    "source = most_resistant_df\n",
    "\n",
    "\n",
    "brush = alt.selection(type='interval', resolve='global')\n",
    "\n",
    "base = alt.Chart(source).mark_circle().encode(\n",
    "    alt.Y('humidity:Q',scale=alt.Scale(domain=(69, 77),clamp=True)),\n",
    "    size='Bot:Q',\n",
    "    color=alt.condition(brush, 'Cultivar', alt.ColorValue('gray'))\n",
    ").add_selection(\n",
    "    brush\n",
    ").properties(\n",
    "    width=250,\n",
    "    height=250\n",
    ")\n",
    "\n",
    "render(base.encode(x='Bot') | base.encode(x='Bush'))"
   ]
  },
  {
   "cell_type": "code",
   "execution_count": null,
   "metadata": {},
   "outputs": [],
   "source": [
    "source = least_resistant_df\n",
    "\n",
    "\n",
    "base = alt.Chart(source).mark_circle().encode(\n",
    "    alt.Y('avgtempC:Q',scale=alt.Scale(domain=(19, 23),clamp=True)),\n",
    "    size='Bot:Q',\n",
    "    color=alt.condition(brush, 'Cultivar:N', alt.ColorValue('gray'))\n",
    ").add_selection(\n",
    "    brush\n",
    ").properties(\n",
    "    width=250,\n",
    "    height=250\n",
    ")\n",
    "\n",
    "render(base.encode(x='Bot') | base.encode(x='Bush')\n",
    ")"
   ]
  },
  {
   "cell_type": "markdown",
   "metadata": {},
   "source": [
    "Plotting the __most resistant__ species to see if there might be correlation between climate and infections level"
   ]
  },
  {
   "cell_type": "code",
   "execution_count": null,
   "metadata": {},
   "outputs": [],
   "source": [
    "g = sns.PairGrid(most_resistant_df, vars=['Bot','avgtempC', 'precipMM', 'cloudcover','humidity'])\n",
    "g.map(sns.regplot)"
   ]
  },
  {
   "cell_type": "markdown",
   "metadata": {},
   "source": [
    "Now same process but for __least resistant__"
   ]
  },
  {
   "cell_type": "code",
   "execution_count": null,
   "metadata": {},
   "outputs": [],
   "source": [
    "g = sns.PairGrid(least_resistant_df, vars=['Bot','avgtempC', 'precipMM', 'cloudcover','humidity'])\n",
    "g.map(sns.regplot)"
   ]
  },
  {
   "cell_type": "code",
   "execution_count": null,
   "metadata": {},
   "outputs": [],
   "source": [
    "df_temp = most_resistant_df\n",
    "\n",
    "mr1 = sns.lmplot(x='avgtempC', y='Bot', data=df_temp)\n",
    "mr2 = sns.lmplot(x='humidity', y='Bot', data=df_temp)\n",
    "mr2 = sns.lmplot(x='precipMM', y='Bot', data=df_temp)\n",
    "mr2 = sns.lmplot(x='cloudcover', y='Bot', data=df_temp)"
   ]
  },
  {
   "cell_type": "code",
   "execution_count": null,
   "metadata": {},
   "outputs": [],
   "source": [
    "df_temp = least_resistant_df\n",
    "mr1 = sns.lmplot(x='avgtempC', y='Bot', data=df_temp)\n",
    "mr2 = sns.lmplot(x='humidity', y='Bot', data=df_temp)\n",
    "mr2 = sns.lmplot(x='precipMM', y='Bot', data=df_temp)\n",
    "mr2 = sns.lmplot(x='cloudcover', y='Bot', data=df_temp)"
   ]
  },
  {
   "cell_type": "markdown",
   "metadata": {},
   "source": [
    "### This is the correlation for the __most__ resistant cultivars"
   ]
  },
  {
   "cell_type": "code",
   "execution_count": null,
   "metadata": {},
   "outputs": [],
   "source": [
    "most_resistant_df[['avgtempC','humidity','precipMM','cloudcover','Bot']].corr(method = 'pearson')"
   ]
  },
  {
   "cell_type": "markdown",
   "metadata": {},
   "source": [
    "### This is the correlation for the **least** resistant cultivars"
   ]
  },
  {
   "cell_type": "code",
   "execution_count": null,
   "metadata": {},
   "outputs": [],
   "source": [
    "least_resistant_df[['avgtempC','humidity','precipMM','cloudcover','Bot']].corr(method = 'pearson')"
   ]
  }
 ],
 "metadata": {
  "kernelspec": {
   "display_name": "Python 3",
   "language": "python",
   "name": "python3"
  },
  "language_info": {
   "codemirror_mode": {
    "name": "ipython",
    "version": 3
   },
   "file_extension": ".py",
   "mimetype": "text/x-python",
   "name": "python",
   "nbconvert_exporter": "python",
   "pygments_lexer": "ipython3",
   "version": "3.6.5"
  }
 },
 "nbformat": 4,
 "nbformat_minor": 2
}
